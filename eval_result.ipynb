{
 "cells": [
  {
   "cell_type": "code",
   "execution_count": 1,
   "metadata": {},
   "outputs": [
    {
     "name": "stderr",
     "output_type": "stream",
     "text": [
      "2024-12-21 00:21:58.009782: I tensorflow/core/util/port.cc:113] oneDNN custom operations are on. You may see slightly different numerical results due to floating-point round-off errors from different computation orders. To turn them off, set the environment variable `TF_ENABLE_ONEDNN_OPTS=0`.\n",
      "2024-12-21 00:21:58.032497: E external/local_xla/xla/stream_executor/cuda/cuda_dnn.cc:9261] Unable to register cuDNN factory: Attempting to register factory for plugin cuDNN when one has already been registered\n",
      "2024-12-21 00:21:58.032520: E external/local_xla/xla/stream_executor/cuda/cuda_fft.cc:607] Unable to register cuFFT factory: Attempting to register factory for plugin cuFFT when one has already been registered\n",
      "2024-12-21 00:21:58.033363: E external/local_xla/xla/stream_executor/cuda/cuda_blas.cc:1515] Unable to register cuBLAS factory: Attempting to register factory for plugin cuBLAS when one has already been registered\n",
      "2024-12-21 00:21:58.037541: I tensorflow/core/platform/cpu_feature_guard.cc:182] This TensorFlow binary is optimized to use available CPU instructions in performance-critical operations.\n",
      "To enable the following instructions: AVX2 AVX512F AVX512_VNNI AVX512_BF16 FMA, in other operations, rebuild TensorFlow with the appropriate compiler flags.\n",
      "2024-12-21 00:21:58.479818: W tensorflow/compiler/tf2tensorrt/utils/py_utils.cc:38] TF-TRT Warning: Could not find TensorRT\n"
     ]
    },
    {
     "name": "stdout",
     "output_type": "stream",
     "text": [
      "Using TensorFlow backend\n"
     ]
    },
    {
     "name": "stderr",
     "output_type": "stream",
     "text": [
      "2024-12-21 00:21:59.804000: I external/local_xla/xla/stream_executor/cuda/cuda_executor.cc:901] successful NUMA node read from SysFS had negative value (-1), but there must be at least one NUMA node, so returning NUMA node zero. See more at https://github.com/torvalds/linux/blob/v6.0/Documentation/ABI/testing/sysfs-bus-pci#L344-L355\n",
      "2024-12-21 00:21:59.834132: I external/local_xla/xla/stream_executor/cuda/cuda_executor.cc:901] successful NUMA node read from SysFS had negative value (-1), but there must be at least one NUMA node, so returning NUMA node zero. See more at https://github.com/torvalds/linux/blob/v6.0/Documentation/ABI/testing/sysfs-bus-pci#L344-L355\n",
      "2024-12-21 00:21:59.834300: I external/local_xla/xla/stream_executor/cuda/cuda_executor.cc:901] successful NUMA node read from SysFS had negative value (-1), but there must be at least one NUMA node, so returning NUMA node zero. See more at https://github.com/torvalds/linux/blob/v6.0/Documentation/ABI/testing/sysfs-bus-pci#L344-L355\n"
     ]
    }
   ],
   "source": [
    "from gym import parallel_state, GameState, parallel_step_ignore_finished, parallel_reset\n",
    "import numpy as np\n",
    "import numba as nb\n",
    "import tensorflow as tf\n",
    "# Optional: Set memory growth for GPU\n",
    "gpus = tf.config.experimental.list_physical_devices('GPU')\n",
    "tf.config.experimental.set_memory_growth(gpus[0], True)\n",
    "import json\n",
    "import models\n",
    "from gym import visualize_state"
   ]
  },
  {
   "cell_type": "markdown",
   "metadata": {},
   "source": [
    "### Name of the log to test (e.g. logs/weapon6 => weapon6)"
   ]
  },
  {
   "cell_type": "code",
   "execution_count": 2,
   "metadata": {},
   "outputs": [],
   "source": [
    "test_name = 'weapon6'"
   ]
  },
  {
   "cell_type": "code",
   "execution_count": 4,
   "metadata": {},
   "outputs": [
    {
     "name": "stderr",
     "output_type": "stream",
     "text": [
      "2024-12-21 00:22:35.017415: I external/local_xla/xla/stream_executor/cuda/cuda_executor.cc:901] successful NUMA node read from SysFS had negative value (-1), but there must be at least one NUMA node, so returning NUMA node zero. See more at https://github.com/torvalds/linux/blob/v6.0/Documentation/ABI/testing/sysfs-bus-pci#L344-L355\n",
      "2024-12-21 00:22:35.017593: I external/local_xla/xla/stream_executor/cuda/cuda_executor.cc:901] successful NUMA node read from SysFS had negative value (-1), but there must be at least one NUMA node, so returning NUMA node zero. See more at https://github.com/torvalds/linux/blob/v6.0/Documentation/ABI/testing/sysfs-bus-pci#L344-L355\n",
      "2024-12-21 00:22:35.017692: I external/local_xla/xla/stream_executor/cuda/cuda_executor.cc:901] successful NUMA node read from SysFS had negative value (-1), but there must be at least one NUMA node, so returning NUMA node zero. See more at https://github.com/torvalds/linux/blob/v6.0/Documentation/ABI/testing/sysfs-bus-pci#L344-L355\n",
      "2024-12-21 00:22:35.106746: I external/local_xla/xla/stream_executor/cuda/cuda_executor.cc:901] successful NUMA node read from SysFS had negative value (-1), but there must be at least one NUMA node, so returning NUMA node zero. See more at https://github.com/torvalds/linux/blob/v6.0/Documentation/ABI/testing/sysfs-bus-pci#L344-L355\n",
      "2024-12-21 00:22:35.106887: I external/local_xla/xla/stream_executor/cuda/cuda_executor.cc:901] successful NUMA node read from SysFS had negative value (-1), but there must be at least one NUMA node, so returning NUMA node zero. See more at https://github.com/torvalds/linux/blob/v6.0/Documentation/ABI/testing/sysfs-bus-pci#L344-L355\n",
      "2024-12-21 00:22:35.106996: I external/local_xla/xla/stream_executor/cuda/cuda_executor.cc:901] successful NUMA node read from SysFS had negative value (-1), but there must be at least one NUMA node, so returning NUMA node zero. See more at https://github.com/torvalds/linux/blob/v6.0/Documentation/ABI/testing/sysfs-bus-pci#L344-L355\n",
      "2024-12-21 00:22:35.107082: I tensorflow/core/common_runtime/gpu/gpu_device.cc:1929] Created device /job:localhost/replica:0/task:0/device:GPU:0 with 22281 MB memory:  -> device: 0, name: NVIDIA GeForce RTX 4090, pci bus id: 0000:01:00.0, compute capability: 8.9\n"
     ]
    },
    {
     "data": {
      "text/plain": [
       "<tensorflow.python.checkpoint.checkpoint.CheckpointLoadStatus at 0x760af0742b90>"
      ]
     },
     "execution_count": 4,
     "metadata": {},
     "output_type": "execute_result"
    }
   ],
   "source": [
    "with open(f'logs/{test_name}/config.json') as f:\n",
    "    config = json.load(f)\n",
    "model = getattr(models, config['model_name'])(**config['model_kwargs'])\n",
    "ckpt = tf.train.Checkpoint(model=model)\n",
    "ckpt.restore(tf.train.latest_checkpoint(f'logs/{test_name}/checkpoints/'))"
   ]
  },
  {
   "cell_type": "markdown",
   "metadata": {},
   "source": [
    "### Number of games to test (e.g. 1000)\n",
    "- Note: All games are created at the same time, so too large number of games requires a lot of memory.\n",
    "- Note: GameStates are numba.jit compiled, so it may take a while to compile."
   ]
  },
  {
   "cell_type": "code",
   "execution_count": 5,
   "metadata": {},
   "outputs": [],
   "source": [
    "EVAL_N = 2000"
   ]
  },
  {
   "cell_type": "code",
   "execution_count": 6,
   "metadata": {},
   "outputs": [],
   "source": [
    "states = nb.typed.List([GameState(\n",
    "    boardsize=8,\n",
    "    max_chance=8,\n",
    "    immutable_idx_list=np.array([\n",
    "                56,\n",
    "                57,\n",
    "                58,\n",
    "                61,\n",
    "                62,\n",
    "                63,\n",
    "                48,\n",
    "                49,\n",
    "                54,\n",
    "                55,\n",
    "                40,\n",
    "                47,\n",
    "                16,\n",
    "                23,\n",
    "                8,\n",
    "                9,\n",
    "                14,\n",
    "                15,\n",
    "                0,\n",
    "                1,\n",
    "                2,\n",
    "                5,\n",
    "                6,\n",
    "                7\n",
    "            ],dtype=np.int32),\n",
    "    chaos_idx_list=np.array([\n",
    "                42,\n",
    "                45,\n",
    "                52,\n",
    "                37,\n",
    "                26,\n",
    "                18,\n",
    "                21,\n",
    "                11\n",
    "            ],np.int32),\n",
    "    chogibaek=0,\n",
    "    ) for _ in range(EVAL_N)])"
   ]
  },
  {
   "cell_type": "code",
   "execution_count": 12,
   "metadata": {},
   "outputs": [
    {
     "name": "stdout",
     "output_type": "stream",
     "text": [
      "2/2 [==============================] - 0s 37ms/step\n",
      "2/2 [==============================] - 0s 37ms/step\n",
      "2/2 [==============================] - 0s 37ms/step\n",
      "2/2 [==============================] - 0s 37ms/step\n",
      "2/2 [==============================] - 0s 37ms/step\n",
      "2/2 [==============================] - 0s 37ms/step\n",
      "2/2 [==============================] - 0s 37ms/step\n",
      "2/2 [==============================] - 0s 36ms/step\n",
      "2/2 [==============================] - 0s 37ms/step\n",
      "2/2 [==============================] - 0s 36ms/step\n",
      "2/2 [==============================] - 0s 37ms/step\n",
      "2/2 [==============================] - 0s 36ms/step\n",
      "2/2 [==============================] - 0s 36ms/step\n",
      "2/2 [==============================] - 0s 37ms/step\n",
      "2/2 [==============================] - 0s 37ms/step\n",
      "2/2 [==============================] - 0s 36ms/step\n",
      "2/2 [==============================] - 0s 36ms/step\n",
      "2/2 [==============================] - 0s 36ms/step\n",
      "0.1445\n"
     ]
    }
   ],
   "source": [
    "parallel_reset(states)\n",
    "output_state_array, output_mask_array, output_finished_array, output_successed_array = parallel_state(states)\n",
    "while not np.all(output_finished_array):\n",
    "    action_logits = model.predict(output_state_array, batch_size=1000)\n",
    "    action_logits[np.logical_not(output_mask_array)] = -np.inf\n",
    "    actions = np.argmax(action_logits, axis=-1)\n",
    "    output_state_array, output_mask_array, output_finished_array, output_successed_array = parallel_step_ignore_finished(states, actions)\n",
    "print(np.mean(output_successed_array))"
   ]
  },
  {
   "cell_type": "code",
   "execution_count": 16,
   "metadata": {},
   "outputs": [
    {
     "name": "stdout",
     "output_type": "stream",
     "text": [
      "Successed indices: 2 10 39 42 44 56 75 96 108 111\n"
     ]
    }
   ],
   "source": [
    "success_indices = np.nonzero(output_successed_array)[0]\n",
    "print('Successed indices:', *success_indices[:10])"
   ]
  },
  {
   "cell_type": "markdown",
   "metadata": {},
   "source": [
    "### Choose the index of the game to visualize (e.g. 0)"
   ]
  },
  {
   "cell_type": "code",
   "execution_count": 17,
   "metadata": {},
   "outputs": [
    {
     "data": {
      "image/png": "[encoded data removed]",
      "text/plain": [
       "<Figure size 640x480 with 1 Axes>"
      ]
     },
     "metadata": {},
     "output_type": "display_data"
    },
    {
     "name": "stdout",
     "output_type": "stream",
     "text": [
      "남은 기회: 8\n",
      "무기 교체 가능 횟수: 2\n",
      "현재 무기: 충격파 폭풍우\n",
      "다음 무기: 해일 용오름 용오름\n",
      "--------------------\n",
      "특수 타일: 남은 정령이 소환한 정령으로 복제 \n",
      "\n",
      "무기 1: 폭풍우\n"
     ]
    },
    {
     "data": {
      "image/png": "[encoded data removed]",
      "text/plain": [
       "<Figure size 640x480 with 1 Axes>"
      ]
     },
     "metadata": {},
     "output_type": "display_data"
    },
    {
     "name": "stdout",
     "output_type": "stream",
     "text": [
      "남은 기회: 7\n",
      "무기 교체 가능 횟수: 2\n",
      "현재 무기: 충격파 용오름\n",
      "다음 무기: 용오름 해일 용오름\n",
      "--------------------\n",
      "특수 타일: 남은 정령이 분출(120) or 세계수 공명(121)으로 변환 \n",
      "\n",
      "무기 0: 충격파\n"
     ]
    },
    {
     "data": {
      "image/png": "[encoded data removed]",
      "text/plain": [
       "<Figure size 640x480 with 1 Axes>"
      ]
     },
     "metadata": {},
     "output_type": "display_data"
    },
    {
     "name": "stdout",
     "output_type": "stream",
     "text": [
      "남은 기회: 6\n",
      "무기 교체 가능 횟수: 2\n",
      "현재 무기: 해일 용오름(2단계)\n",
      "다음 무기: 지진 낙뢰 용오름\n",
      "--------------------\n",
      "특수 타일: 남은 정령이 분출(120) or 세계수 공명(121)으로 변환 \n",
      "\n",
      "무기 0: 해일\n"
     ]
    },
    {
     "data": {
      "image/png": "[encoded data removed]",
      "text/plain": [
       "<Figure size 640x480 with 1 Axes>"
      ]
     },
     "metadata": {},
     "output_type": "display_data"
    },
    {
     "name": "stdout",
     "output_type": "stream",
     "text": [
      "남은 기회: 5\n",
      "무기 교체 가능 횟수: 2\n",
      "현재 무기: 용오름 분출\n",
      "다음 무기: 벼락 지진 낙뢰\n",
      "--------------------\n",
      "특수 타일: 남은 정령이 소환한 정령으로 복제 \n",
      "\n",
      "무기 0: 용오름\n"
     ]
    },
    {
     "data": {
      "image/png": "[encoded data removed]",
      "text/plain": [
       "<Figure size 640x480 with 1 Axes>"
      ]
     },
     "metadata": {},
     "output_type": "display_data"
    },
    {
     "name": "stdout",
     "output_type": "stream",
     "text": [
      "남은 기회: 4\n",
      "무기 교체 가능 횟수: 2\n",
      "현재 무기: 낙뢰 세계수의 공명\n",
      "다음 무기: 벼락 벼락 지진\n",
      "--------------------\n",
      "특수 타일: 남아 있는 모든 석판이 재배치 \n",
      "\n",
      "무기 1: 세계수의 공명\n"
     ]
    },
    {
     "data": {
      "image/png": "[encoded data removed]",
      "text/plain": [
       "<Figure size 640x480 with 1 Axes>"
      ]
     },
     "metadata": {},
     "output_type": "display_data"
    },
    {
     "name": "stdout",
     "output_type": "stream",
     "text": [
      "남은 기회: 3\n",
      "무기 교체 가능 횟수: 2\n",
      "현재 무기: 지진 세계수의 공명\n",
      "다음 무기: 용오름 벼락 벼락\n",
      "--------------------\n",
      "특수 타일: 남은 정령이 소환한 정령으로 복제 \n",
      "\n",
      "무기 1: 세계수의 공명\n"
     ]
    },
    {
     "data": {
      "image/png": "[encoded data removed]",
      "text/plain": [
       "<Figure size 640x480 with 1 Axes>"
      ]
     },
     "metadata": {},
     "output_type": "display_data"
    },
    {
     "name": "stdout",
     "output_type": "stream",
     "text": [
      "남은 기회: 2\n",
      "무기 교체 가능 횟수: 2\n",
      "현재 무기: 벼락 지진\n",
      "다음 무기: 충격파 용오름 벼락\n",
      "--------------------\n",
      "특수 타일: 남은 정령이 소환한 정령으로 복제 \n",
      "\n",
      "무기 1 교체\n"
     ]
    },
    {
     "data": {
      "image/png": "[encoded data removed]",
      "text/plain": [
       "<Figure size 640x480 with 1 Axes>"
      ]
     },
     "metadata": {},
     "output_type": "display_data"
    },
    {
     "name": "stdout",
     "output_type": "stream",
     "text": [
      "남은 기회: 2\n",
      "무기 교체 가능 횟수: 1\n",
      "현재 무기: 용오름 벼락(2단계)\n",
      "다음 무기: 용오름 용오름 충격파\n",
      "--------------------\n",
      "특수 타일: 정령 교체 가능 횟수 증가 \n",
      "\n",
      "무기 1: 벼락(2단계)\n"
     ]
    },
    {
     "data": {
      "image/png": "[encoded data removed]",
      "text/plain": [
       "<Figure size 640x480 with 1 Axes>"
      ]
     },
     "metadata": {},
     "output_type": "display_data"
    },
    {
     "name": "stdout",
     "output_type": "stream",
     "text": [
      "남은 기회: 1\n",
      "무기 교체 가능 횟수: 1\n",
      "현재 무기: 충격파 벼락(2단계)\n",
      "다음 무기: 대폭발 용오름 용오름\n",
      "--------------------\n",
      "특수 타일: 정령 교체 가능 횟수 증가 \n",
      "\n",
      "무기 0 교체\n"
     ]
    },
    {
     "data": {
      "image/png": "[encoded data removed]",
      "text/plain": [
       "<Figure size 640x480 with 1 Axes>"
      ]
     },
     "metadata": {},
     "output_type": "display_data"
    },
    {
     "name": "stdout",
     "output_type": "stream",
     "text": [
      "남은 기회: 1\n",
      "무기 교체 가능 횟수: 0\n",
      "현재 무기: 용오름 벼락(2단계)\n",
      "다음 무기: 업화 대폭발 용오름\n",
      "--------------------\n",
      "마지막 행동: 41\n"
     ]
    }
   ],
   "source": [
    "IDX = 2\n",
    "\n",
    "sample_history, sample_actions = states[IDX].get_history()\n",
    "sample_actions.insert(0, None)\n",
    "last_s = None\n",
    "for s, a in zip(sample_history, sample_actions):\n",
    "    visualize_state((s, None), a, last_s)\n",
    "    last_s = s\n",
    "print(f'마지막 행동: {sample_actions[-1]}')"
   ]
  }
 ],
 "metadata": {
  "kernelspec": {
   "display_name": "opentf",
   "language": "python",
   "name": "python3"
  },
  "language_info": {
   "codemirror_mode": {
    "name": "ipython",
    "version": 3
   },
   "file_extension": ".py",
   "mimetype": "text/x-python",
   "name": "python",
   "nbconvert_exporter": "python",
   "pygments_lexer": "ipython3",
   "version": "3.11.11"
  }
 },
 "nbformat": 4,
 "nbformat_minor": 2
}
